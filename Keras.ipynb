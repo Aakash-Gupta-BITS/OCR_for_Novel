{
 "cells": [
  {
   "cell_type": "code",
   "execution_count": 2,
   "metadata": {},
   "outputs": [],
   "source": [
    "from PIL import Image, ImageFilter, ImageOps \n",
    "from collections import deque as queue\n",
    "import matplotlib.pyplot as plt\n",
    "import numpy as np\n",
    "import os\n",
    "from io import BytesIO\n",
    "        \n",
    "dir_path = './images/'\n",
    "clean_path = './clean_images/'\n",
    "clean_border_path = './clean_images_with_border/'\n",
    "\n",
    "file_names = os.listdir(dir_path)\n",
    "file_names.sort()"
   ]
  },
  {
   "cell_type": "markdown",
   "metadata": {
    "id": "fJUifQl1fwh2",
    "tags": []
   },
   "source": [
    "# Preprocess Images"
   ]
  },
  {
   "cell_type": "markdown",
   "metadata": {
    "id": "q-GNY6i_f6N0",
    "tags": []
   },
   "source": [
    "## Load Images"
   ]
  },
  {
   "cell_type": "code",
   "execution_count": 3,
   "metadata": {
    "executionInfo": {
     "elapsed": 4348,
     "status": "ok",
     "timestamp": 1659825943933,
     "user": {
      "displayName": "AAKASH AAKASH",
      "userId": "11300763754548727515"
     },
     "user_tz": -330
    },
    "id": "KJnJ9D0rFU0a"
   },
   "outputs": [],
   "source": [
    "images = [Image.open(dir_path + x) for x in file_names]\n",
    "gray_images = [image.convert('L') for image in images]"
   ]
  },
  {
   "cell_type": "markdown",
   "metadata": {
    "id": "ftyK_q-oqqKE",
    "tags": []
   },
   "source": [
    "## Convert to B/W"
   ]
  },
  {
   "cell_type": "code",
   "execution_count": 4,
   "metadata": {
    "executionInfo": {
     "elapsed": 61,
     "status": "ok",
     "timestamp": 1659825943938,
     "user": {
      "displayName": "AAKASH AAKASH",
      "userId": "11300763754548727515"
     },
     "user_tz": -330
    },
    "id": "NrXBTBmNTwD0"
   },
   "outputs": [],
   "source": [
    "# Returns the numpy filter for the boxing of rows\n",
    "def get_range_filter(array, split_size):\n",
    "    first_true = 0\n",
    "    last_true = len(array)\n",
    "    border = len(array) // 2\n",
    "\n",
    "    for i in range(border):\n",
    "        if int(array[i + 1]) - int(array[i]) > split_size:\n",
    "            first_true = i\n",
    "\n",
    "    for i in range(border, len(array) - 1):  \n",
    "        if int(array[i]) - int(array[i + 1]) > split_size:\n",
    "            last_true = i\n",
    "            break\n",
    "\n",
    "    filter = np.array([False] * len(array))\n",
    "    filter[first_true:last_true] = True\n",
    "    return filter"
   ]
  },
  {
   "cell_type": "code",
   "execution_count": 5,
   "metadata": {
    "id": "V2qsd6qgqtHJ"
   },
   "outputs": [
    {
     "name": "stdout",
     "output_type": "stream",
     "text": [
      "1 / 64\n",
      "2 / 64\n",
      "3 / 64\n",
      "4 / 64\n",
      "5 / 64\n",
      "6 / 64\n",
      "7 / 64\n",
      "8 / 64\n",
      "9 / 64\n",
      "10 / 64\n",
      "11 / 64\n",
      "12 / 64\n",
      "13 / 64\n",
      "14 / 64\n",
      "15 / 64\n",
      "16 / 64\n",
      "17 / 64\n",
      "18 / 64\n",
      "19 / 64\n",
      "20 / 64\n",
      "21 / 64\n",
      "22 / 64\n",
      "23 / 64\n",
      "24 / 64\n",
      "25 / 64\n",
      "26 / 64\n",
      "27 / 64\n",
      "28 / 64\n",
      "29 / 64\n",
      "30 / 64\n",
      "31 / 64\n",
      "32 / 64\n",
      "33 / 64\n",
      "34 / 64\n",
      "35 / 64\n",
      "36 / 64\n",
      "37 / 64\n",
      "38 / 64\n",
      "39 / 64\n",
      "40 / 64\n",
      "41 / 64\n",
      "42 / 64\n",
      "43 / 64\n",
      "44 / 64\n",
      "45 / 64\n",
      "46 / 64\n",
      "47 / 64\n",
      "48 / 64\n",
      "49 / 64\n",
      "50 / 64\n",
      "51 / 64\n",
      "52 / 64\n",
      "53 / 64\n",
      "54 / 64\n",
      "55 / 64\n",
      "56 / 64\n",
      "57 / 64\n",
      "58 / 64\n",
      "59 / 64\n",
      "60 / 64\n",
      "61 / 64\n",
      "62 / 64\n",
      "63 / 64\n",
      "64 / 64\n"
     ]
    }
   ],
   "source": [
    "clean_arrays = []\n",
    "clean_border_images = []\n",
    "for index, image in enumerate(gray_images):\n",
    "    array = np.asarray(image)\n",
    "\n",
    "    # Filter along columns\n",
    "    col_maxs = np.amax(array, axis=0)\n",
    "    col_filter = col_maxs > np.mean(col_maxs)\n",
    "    array = array[:, col_filter]\n",
    "\n",
    "    # Filter along rows - loop approach\n",
    "    row_maxs = np.amax(array, axis=1)\n",
    "    row_filter = get_range_filter(row_maxs, 40)\n",
    "    array = array[row_filter, :]\n",
    "\n",
    "    # Make brightness uniform\n",
    "    x = np.arange(len(array))\n",
    "    y = np.mean(array, axis=1)\n",
    "\n",
    "    mymodel = np.poly1d(np.polyfit(x, y, 2))\n",
    "    coeffs = mymodel.__dict__['coeffs'][::-1]\n",
    "\n",
    "    avg_pts = np.array([coeffs[0] + coeffs[1] * i + coeffs[2] * i * i for i in range(len(x))])\n",
    "    target = (avg_pts - np.mean(avg_pts)) * 0.7\n",
    "    new_arr = np.array([[0] * len(array[0])] * len(x))\n",
    "\n",
    "    for i in range(len(x)):\n",
    "        new_arr[i] = array[i] - target[i]\n",
    "\n",
    "    # Make black and white\n",
    "    thresh = new_arr.mean() - new_arr.std()\n",
    "    array = (new_arr > thresh) * 255\n",
    "\n",
    "    # Store the image\n",
    "    clean_arrays.append(array.astype('ubyte'))\n",
    "    clean_border_images.append(Image.fromarray(clean_arrays[-1]))\n",
    "    print(index + 1, \"/\", len(gray_images))"
   ]
  },
  {
   "cell_type": "markdown",
   "metadata": {
    "tags": []
   },
   "source": [
    "## Clean Borders"
   ]
  },
  {
   "cell_type": "code",
   "execution_count": 6,
   "metadata": {},
   "outputs": [
    {
     "name": "stdout",
     "output_type": "stream",
     "text": [
      "1 / 64\n",
      "2 / 64\n",
      "3 / 64\n",
      "4 / 64\n",
      "5 / 64\n",
      "6 / 64\n"
     ]
    },
    {
     "ename": "KeyboardInterrupt",
     "evalue": "",
     "output_type": "error",
     "traceback": [
      "\u001b[1;31m---------------------------------------------------------------------------\u001b[0m",
      "\u001b[1;31mKeyboardInterrupt\u001b[0m                         Traceback (most recent call last)",
      "Input \u001b[1;32mIn [6]\u001b[0m, in \u001b[0;36m<cell line: 25>\u001b[1;34m()\u001b[0m\n\u001b[0;32m     29\u001b[0m vis \u001b[38;5;241m=\u001b[39m np\u001b[38;5;241m.\u001b[39mresize(np\u001b[38;5;241m.\u001b[39marray([\u001b[38;5;28;01mFalse\u001b[39;00m]), (\u001b[38;5;28mlen\u001b[39m(arr), \u001b[38;5;28mlen\u001b[39m(arr[\u001b[38;5;241m0\u001b[39m])))\n\u001b[0;32m     31\u001b[0m \u001b[38;5;28;01mfor\u001b[39;00m i \u001b[38;5;129;01min\u001b[39;00m \u001b[38;5;28mrange\u001b[39m(rows):\n\u001b[1;32m---> 32\u001b[0m     \u001b[43mrecolor_border\u001b[49m\u001b[43m(\u001b[49m\u001b[43marr\u001b[49m\u001b[43m,\u001b[49m\u001b[43m \u001b[49m\u001b[43mvis\u001b[49m\u001b[43m,\u001b[49m\u001b[43m \u001b[49m\u001b[38;5;241;43m0\u001b[39;49m\u001b[43m,\u001b[49m\u001b[43m \u001b[49m\u001b[38;5;241;43m255\u001b[39;49m\u001b[43m,\u001b[49m\u001b[43m \u001b[49m\u001b[43m(\u001b[49m\u001b[43mi\u001b[49m\u001b[43m,\u001b[49m\u001b[43m \u001b[49m\u001b[38;5;241;43m0\u001b[39;49m\u001b[43m)\u001b[49m\u001b[43m)\u001b[49m\n\u001b[0;32m     33\u001b[0m     recolor_border(arr, vis, \u001b[38;5;241m0\u001b[39m, \u001b[38;5;241m255\u001b[39m, (i, cols \u001b[38;5;241m-\u001b[39m \u001b[38;5;241m1\u001b[39m))\n\u001b[0;32m     34\u001b[0m \u001b[38;5;28;01mfor\u001b[39;00m j \u001b[38;5;129;01min\u001b[39;00m \u001b[38;5;28mrange\u001b[39m(cols):\n",
      "Input \u001b[1;32mIn [6]\u001b[0m, in \u001b[0;36mrecolor_border\u001b[1;34m(arr, vis, from_color, to_color, start)\u001b[0m\n\u001b[0;32m     18\u001b[0m new_x \u001b[38;5;241m=\u001b[39m x \u001b[38;5;241m+\u001b[39m dRow[i]\n\u001b[0;32m     19\u001b[0m new_y \u001b[38;5;241m=\u001b[39m y \u001b[38;5;241m+\u001b[39m dCol[i]\n\u001b[1;32m---> 20\u001b[0m \u001b[38;5;28;01mif\u001b[39;00m valid_index(new_x, new_y, from_color) \u001b[38;5;129;01mand\u001b[39;00m \u001b[38;5;129;01mnot\u001b[39;00m vis[new_x][new_y]:\n\u001b[0;32m     21\u001b[0m     q\u001b[38;5;241m.\u001b[39mappend((new_x, new_y))\n\u001b[0;32m     22\u001b[0m     vis[new_x][new_y] \u001b[38;5;241m=\u001b[39m \u001b[38;5;28;01mTrue\u001b[39;00m\n",
      "\u001b[1;31mKeyboardInterrupt\u001b[0m: "
     ]
    }
   ],
   "source": [
    "def recolor_border(arr, vis, from_color, to_color, start):\n",
    "    (x, y) = start\n",
    "    dRow = [ -1, 0, 1, 0 ]\n",
    "    dCol = [ 0, 1, 0, -1 ]\n",
    "    \n",
    "    q = queue()\n",
    "    \n",
    "    valid_index = lambda x, y, color: (x >= 0 and y >= 0 and x < len(arr) and y < len(arr[0]) and arr[x][y] == color)\n",
    "    \n",
    "    q.append(start)\n",
    "    vis[x][y] = True\n",
    "    \n",
    "    while len(q) > 0:\n",
    "        (x, y) = q.popleft()\n",
    "        arr[x][y] = to_color\n",
    "        \n",
    "        for i in range(4):\n",
    "            new_x = x + dRow[i]\n",
    "            new_y = y + dCol[i]\n",
    "            if valid_index(new_x, new_y, from_color) and not vis[new_x][new_y]:\n",
    "                q.append((new_x, new_y))\n",
    "                vis[new_x][new_y] = True\n",
    "                \n",
    "clean_images = []\n",
    "for ind, arr in enumerate(clean_arrays):\n",
    "    arr = arr.copy()\n",
    "    rows = len(arr)\n",
    "    cols = len(arr[0])\n",
    "    vis = np.resize(np.array([False]), (len(arr), len(arr[0])))\n",
    "    \n",
    "    for i in range(rows):\n",
    "        recolor_border(arr, vis, 0, 255, (i, 0))\n",
    "        recolor_border(arr, vis, 0, 255, (i, cols - 1))\n",
    "    for j in range(cols):\n",
    "        recolor_border(arr, vis, 0, 255, (rows - 1, j))\n",
    "        recolor_border(arr, vis, 0, 255, (0, j))\n",
    "        \n",
    "    clean_images.append(Image.fromarray(arr))\n",
    "    print(ind + 1, \"/\", len(clean_arrays))"
   ]
  },
  {
   "cell_type": "markdown",
   "metadata": {
    "id": "UCcoauFVU2jY",
    "tags": []
   },
   "source": [
    "## Save clean images"
   ]
  },
  {
   "cell_type": "code",
   "execution_count": 7,
   "metadata": {
    "executionInfo": {
     "elapsed": 5897,
     "status": "ok",
     "timestamp": 1659825960405,
     "user": {
      "displayName": "AAKASH AAKASH",
      "userId": "11300763754548727515"
     },
     "user_tz": -330
    },
    "id": "LuabawrlU4Yw"
   },
   "outputs": [],
   "source": [
    "for i, clean_image in enumerate(clean_border_images):\n",
    "    clean_image.save(clean_border_path + file_names[i], \"PNG\")\n",
    "\n",
    "#for i, clean_image in enumerate(clean_images):\n",
    "#    clean_image.save(clean_path + file_names[i], \"PNG\")"
   ]
  },
  {
   "cell_type": "markdown",
   "metadata": {},
   "source": [
    "# Image Segmentation"
   ]
  },
  {
   "cell_type": "markdown",
   "metadata": {
    "tags": []
   },
   "source": [
    "## Load Saved Images"
   ]
  },
  {
   "cell_type": "code",
   "execution_count": null,
   "metadata": {},
   "outputs": [],
   "source": [
    "clean_images = [Image.open(clean_path + x) for x in file_names]"
   ]
  },
  {
   "cell_type": "markdown",
   "metadata": {
    "tags": []
   },
   "source": [
    "## Split Characters"
   ]
  },
  {
   "cell_type": "markdown",
   "metadata": {
    "tags": []
   },
   "source": [
    "### Function to Split an image"
   ]
  },
  {
   "cell_type": "code",
   "execution_count": null,
   "metadata": {},
   "outputs": [],
   "source": [
    "def split_image(img_arr, vertical: bool = False):\n",
    "    if vertical: img_arr = np.transpose(img_arr)\n",
    "    \n",
    "    rows = []\n",
    "    prev_sum = 0\n",
    "    \n",
    "    for i, row_sum in enumerate(img_arr.sum(axis=1)):\n",
    "        if row_sum == 0:\n",
    "            prev_sum = row_sum\n",
    "            continue\n",
    "        \n",
    "        if prev_sum == 0:\n",
    "            rows.append([img_arr[i]])\n",
    "        else:\n",
    "            rows[-1].append(img_arr[i])\n",
    "        \n",
    "        prev_sum = row_sum\n",
    "\n",
    "    ans = []\n",
    "    for row in rows:\n",
    "        ans.append(np.array(row))\n",
    "        if vertical: ans[-1] = np.transpose(ans[-1])\n",
    "    \n",
    "    return ans"
   ]
  },
  {
   "cell_type": "markdown",
   "metadata": {
    "tags": []
   },
   "source": [
    "### Split rows"
   ]
  },
  {
   "cell_type": "code",
   "execution_count": null,
   "metadata": {},
   "outputs": [],
   "source": [
    "# row_arr[i][j]: page i, row j: 4D array\n",
    "row_arr = []\n",
    "\n",
    "for clean_image in clean_images:\n",
    "    arr = np.asarray(clean_image)\n",
    "    \n",
    "    # convert to black background in case we have white background\n",
    "    if arr.mean() > 128:\n",
    "        arr = 255 - arr\n",
    "    \n",
    "    returned_rows = split_image(arr)\n",
    "    row_arr.append(returned_rows)"
   ]
  },
  {
   "cell_type": "markdown",
   "metadata": {
    "tags": []
   },
   "source": [
    "### Remove Extra Rows"
   ]
  },
  {
   "cell_type": "code",
   "execution_count": 244,
   "metadata": {},
   "outputs": [],
   "source": [
    "# HARD CODED VALUE DEDUCED FROM OUTPUT OF CODE IN NEXT CELL\n",
    "row_min_height = 23 + 1\n",
    "\n",
    "row_arr_temp = []\n",
    "for page in row_arr:\n",
    "    row_arr_temp.append([])\n",
    "    for row in page:\n",
    "        if row.shape[0] < row_min_height:\n",
    "            continue\n",
    "        row_arr_temp[-1].append(row)\n",
    "\n",
    "row_arr = row_arr_temp"
   ]
  },
  {
   "cell_type": "code",
   "execution_count": null,
   "metadata": {},
   "outputs": [],
   "source": [
    "row_height = {}\n",
    "temp = []\n",
    "for page in row_arr:\n",
    "    for row in page:\n",
    "        height = row.shape[0]\n",
    "        row_height[height] = row_height.get(height, 0) + 1\n",
    "        if height == 23:\n",
    "            temp.append(row)\n",
    "\n",
    "# sorted(row_height.items(), key=lambda x: x[0], reverse=False\n",
    "# print(len(temp))\n",
    "# Image.fromarray(temp[2])\n",
    "\n",
    "x = []\n",
    "y = []\n",
    "\n",
    "for a, b in row_height.items():\n",
    "    x.append(a)\n",
    "    y.append(b)\n",
    "\n",
    "plt.scatter(x, y)\n",
    "plt.plot()"
   ]
  },
  {
   "cell_type": "markdown",
   "metadata": {
    "tags": []
   },
   "source": [
    "### Split Words"
   ]
  },
  {
   "cell_type": "code",
   "execution_count": null,
   "metadata": {},
   "outputs": [],
   "source": [
    "# col_arr[i][j][k]: page i, row j, word k: 5D array\n",
    "word_arr = []\n",
    "\n",
    "for i, page in enumerate(row_arr):\n",
    "    word_arr.append([])\n",
    "    for row in page:\n",
    "        # Blur row so that word can be captured instead of individual character\n",
    "        temp = BytesIO()\n",
    "        Image.fromarray(row).save(temp, \"jpeg\")\n",
    "        row = np.asarray(Image.open(temp))\n",
    "        \n",
    "        # Load blurred input\n",
    "        word_arr[-1].append(split_image(row, True))\n",
    "        \n",
    "    print(i + 1, \"/\", len(row_arr))"
   ]
  }
 ],
 "metadata": {
  "colab": {
   "collapsed_sections": [
    "bJd7l5aoyh3k",
    "a9C4kJkMylMT",
    "DMhd2NKCvWRM",
    "4y1KmV4-08MC",
    "TsIMFicj1biY",
    "ip7By9_564rv",
    "KkxR-l9r8KQB",
    "CHRMloNu8Tzp",
    "JcUSGZHnM9zR",
    "fXHYW6LBtqbt",
    "a-3x7KI5feQy",
    "q-GNY6i_f6N0",
    "UCcoauFVU2jY"
   ],
   "name": "Keras.ipynb",
   "provenance": []
  },
  "gpuClass": "standard",
  "kernelspec": {
   "display_name": "Python 3 (ipykernel)",
   "language": "python",
   "name": "python3"
  },
  "language_info": {
   "codemirror_mode": {
    "name": "ipython",
    "version": 3
   },
   "file_extension": ".py",
   "mimetype": "text/x-python",
   "name": "python",
   "nbconvert_exporter": "python",
   "pygments_lexer": "ipython3",
   "version": "3.10.6"
  }
 },
 "nbformat": 4,
 "nbformat_minor": 4
}
